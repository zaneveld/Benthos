{
 "cells": [
  {
   "cell_type": "markdown",
   "id": "5ee41725",
   "metadata": {},
   "source": [
    "<link rel=\"stylesheet\" type=\"text/css\" href=\"styles.css\">"
   ]
  },
  {
   "cell_type": "markdown",
   "id": "cfb4c322",
   "metadata": {},
   "source": [
    "<div class=\"overlay\">\n",
    "</div>\n",
    "<div class=\"container\">\n",
    "    <img src=\"./static/shop_banner.png\" width=\"1200\" alt=\"Digital art of a mischievous-looking parrotfish eating coral\">\n",
    "    <h1>Welcome to Benthos</h1>\n",
    "    <p>Explore the game rules, art, and where to purchase Benthos.</p>\n",
    "    <!-- Navigation Section -->\n",
    "    <div class=\"navigation\">\n",
    "        <!-- Link to Gameplay -->\n",
    "        <a href=\"./gameplay.html\" class=\"nav-item\">\n",
    "            <img src=\"./static/vector_icons_octo.svg\" alt=\"Gameplay icon\">\n",
    "            <p>Gameplay</p>\n",
    "        </a>\n",
    "        <!-- Link to Science -->\n",
    "        <a href=\"./science.html\" class=\"nav-item\">\n",
    "            <img src=\"./static/vector_icons_awareness.svg\" alt=\"Science icon\">\n",
    "            <p>Science</p>\n",
    "        </a>\n",
    "        <!-- Link to Art -->\n",
    "        <a href=\"./art.html\" class=\"nav-item\">\n",
    "            <img src=\"./static/vector_icons_warming.svg\" alt=\"Art icon\">\n",
    "            <p>Art</p>\n",
    "        </a>\n",
    "        <!-- Link to Buy -->\n",
    "        <a href=\"https://www.thegamecrafter.com/games/benthos\" class=\"nav-item\">\n",
    "            <img src=\"./static/vector_icons_population.svg\" alt=\"Buy icon\">\n",
    "            <p>Buy</p>\n",
    "        </a>\n",
    "        <!-- Link to Feedback -->\n",
    "        <a href=\"./feedback.html\" class=\"nav-item\">\n",
    "            <img src=\"./static/vector_icons_hurricane2.svg\" alt=\"Feedback\">\n",
    "            <p>Feedback</p>\n",
    "        </a>\n",
    "    </div>\n",
    "</div>\n"
   ]
  },
  {
   "cell_type": "markdown",
   "id": "acc5f8d1",
   "metadata": {},
   "source": []
  },
  {
   "cell_type": "code",
   "execution_count": 42,
   "id": "facb8801",
   "metadata": {},
   "outputs": [
    {
     "data": {
      "text/html": [
       "<link rel=\"stylesheet\" type=\"text/css\" href=\"./css/styles.css\">"
      ],
      "text/plain": [
       "<IPython.core.display.HTML object>"
      ]
     },
     "execution_count": 42,
     "metadata": {},
     "output_type": "execute_result"
    }
   ],
   "source": [
    "from IPython.display import HTML\n",
    "HTML('<link rel=\"stylesheet\" type=\"text/css\" href=\"./css/styles.css\">')"
   ]
  },
  {
   "cell_type": "code",
   "execution_count": null,
   "id": "acbddffe",
   "metadata": {},
   "outputs": [],
   "source": []
  }
 ],
 "metadata": {
  "kernelspec": {
   "display_name": "Python 3 (ipykernel)",
   "language": "python",
   "name": "python3"
  },
  "language_info": {
   "codemirror_mode": {
    "name": "ipython",
    "version": 3
   },
   "file_extension": ".py",
   "mimetype": "text/x-python",
   "name": "python",
   "nbconvert_exporter": "python",
   "pygments_lexer": "ipython3",
   "version": "3.9.19"
  }
 },
 "nbformat": 4,
 "nbformat_minor": 5
}
